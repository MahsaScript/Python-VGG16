{
 "cells": [
  {
   "cell_type": "code",
   "execution_count": 1,
   "metadata": {},
   "outputs": [],
   "source": [
    "import numpy as np\n",
    "import pandas as pd\n",
    "import math\n",
    "import matplotlib.pyplot as plt\n",
    "import cv2\n",
    "from sklearn.model_selection import train_test_split, StratifiedKFold\n",
    "import keras\n",
    "from keras.models import Sequential, Model\n",
    "from keras.layers import Input, Flatten, Dense, Dropout, Convolution2D, Conv2D, MaxPooling2D, Lambda, GlobalMaxPooling2D, GlobalAveragePooling2D, BatchNormalization, Activation, AveragePooling2D, Concatenate\n",
    "from keras.preprocessing.image import ImageDataGenerator\n",
    "from keras.callbacks import EarlyStopping, ModelCheckpoint, ReduceLROnPlateau\n",
    "from keras.utils import np_utils\n",
    "\n",
    "import matplotlib.pyplot as plt\n",
    "import seaborn as sns\n",
    "\n",
    "import keras\n",
    "from keras.models import Sequential\n",
    "from keras.layers import Dense, Conv2D , MaxPool2D , Flatten , Dropout \n",
    "from keras.preprocessing.image import ImageDataGenerator\n",
    "from keras.optimizers import Adam\n",
    "\n",
    "from sklearn.metrics import classification_report,confusion_matrix\n",
    "\n",
    "import tensorflow as tf\n",
    "\n",
    "import cv2\n",
    "import os\n",
    "\n",
    "import numpy as np"
   ]
  },
  {
   "cell_type": "code",
   "execution_count": 2,
   "metadata": {},
   "outputs": [],
   "source": [
    "# This Python 3 environment comes with many helpful analytics libraries installed\n",
    "# It is defined by the kaggle/python docker image: https://github.com/kaggle/docker-python\n",
    "# For example, here's several helpful packages to load in \n",
    "\n",
    "import numpy as np # linear algebra\n",
    "import pandas as pd # data processing, CSV file I/O (e.g. pd.read_csv)\n",
    "\n",
    "# Input data files are available in the \"../input/\" directory.\n",
    "# For example, running this (by clicking run or pressing Shift+Enter) will list the files in the input directory\n",
    "\n",
    "# from subprocess import check_output\n",
    "# print(check_output([\"ls\", \"../input\"]).decode(\"utf8\"))\n",
    "\n",
    "# Any results you write to the current directory are saved as output."
   ]
  },
  {
   "cell_type": "code",
   "execution_count": 3,
   "metadata": {},
   "outputs": [],
   "source": [
    "path_root = \"C:/Users/Sina/Desktop/Python/thesis code/main_data\""
   ]
  },
  {
   "cell_type": "code",
   "execution_count": 4,
   "metadata": {},
   "outputs": [
    {
     "name": "stdout",
     "output_type": "stream",
     "text": [
      "Found 3301 images belonging to 2 classes.\n"
     ]
    }
   ],
   "source": [
    "from keras.preprocessing.image import ImageDataGenerator\n",
    "#batches = ImageDataGenerator().flow_from_directory(directory=path_root, target_size=(64,64), batch_size=10000,class_mode='categorical')\n",
    "batches = ImageDataGenerator().flow_from_directory(directory=path_root, target_size=(64, 64), batch_size=10000,shuffle=True, class_mode='sparse',interpolation=\"bilinear\")\n",
    "\n"
   ]
  },
  {
   "cell_type": "code",
   "execution_count": 5,
   "metadata": {},
   "outputs": [],
   "source": [
    "imgs, Labels = next(batches)"
   ]
  },
  {
   "cell_type": "code",
   "execution_count": 6,
   "metadata": {},
   "outputs": [],
   "source": [
    "from sklearn.model_selection import train_test_split\n",
    "X_train, X_test, y_train, y_test = train_test_split(imgs/255.,Labels, test_size=0.3)"
   ]
  },
  {
   "cell_type": "code",
   "execution_count": 40,
   "metadata": {},
   "outputs": [
    {
     "name": "stderr",
     "output_type": "stream",
     "text": [
      "C:\\Users\\Sina\\Anaconda3\\lib\\site-packages\\sklearn\\model_selection\\_split.py:665: DeprecationWarning: `np.int` is a deprecated alias for the builtin `int`. To silence this warning, use `int` by itself. Doing this will not modify any behavior and is safe. When replacing `np.int`, you may wish to use e.g. `np.int64` or `np.int32` to specify the precision. If you wish to review your current use, check the release note link for additional information.\n",
      "Deprecated in NumPy 1.20; for more details and guidance: https://numpy.org/devdocs/release/1.20.0-notes.html#deprecations\n",
      "  test_folds = np.zeros(n_samples, dtype=np.int)\n",
      "C:\\Users\\Sina\\Anaconda3\\lib\\site-packages\\sklearn\\model_selection\\_split.py:437: DeprecationWarning: `np.int` is a deprecated alias for the builtin `int`. To silence this warning, use `int` by itself. Doing this will not modify any behavior and is safe. When replacing `np.int`, you may wish to use e.g. `np.int64` or `np.int32` to specify the precision. If you wish to review your current use, check the release note link for additional information.\n",
      "Deprecated in NumPy 1.20; for more details and guidance: https://numpy.org/devdocs/release/1.20.0-notes.html#deprecations\n",
      "  fold_sizes = np.full(n_splits, n_samples // n_splits, dtype=np.int)\n",
      "C:\\Users\\Sina\\Anaconda3\\lib\\site-packages\\sklearn\\model_selection\\_split.py:113: DeprecationWarning: `np.bool` is a deprecated alias for the builtin `bool`. To silence this warning, use `bool` by itself. Doing this will not modify any behavior and is safe. If you specifically wanted the numpy scalar type, use `np.bool_` here.\n",
      "Deprecated in NumPy 1.20; for more details and guidance: https://numpy.org/devdocs/release/1.20.0-notes.html#deprecations\n",
      "  test_mask = np.zeros(_num_samples(X), dtype=np.bool)\n",
      "C:\\Users\\Sina\\Anaconda3\\lib\\site-packages\\sklearn\\model_selection\\_split.py:437: DeprecationWarning: `np.int` is a deprecated alias for the builtin `int`. To silence this warning, use `int` by itself. Doing this will not modify any behavior and is safe. When replacing `np.int`, you may wish to use e.g. `np.int64` or `np.int32` to specify the precision. If you wish to review your current use, check the release note link for additional information.\n",
      "Deprecated in NumPy 1.20; for more details and guidance: https://numpy.org/devdocs/release/1.20.0-notes.html#deprecations\n",
      "  fold_sizes = np.full(n_splits, n_samples // n_splits, dtype=np.int)\n",
      "C:\\Users\\Sina\\Anaconda3\\lib\\site-packages\\sklearn\\model_selection\\_split.py:113: DeprecationWarning: `np.bool` is a deprecated alias for the builtin `bool`. To silence this warning, use `bool` by itself. Doing this will not modify any behavior and is safe. If you specifically wanted the numpy scalar type, use `np.bool_` here.\n",
      "Deprecated in NumPy 1.20; for more details and guidance: https://numpy.org/devdocs/release/1.20.0-notes.html#deprecations\n",
      "  test_mask = np.zeros(_num_samples(X), dtype=np.bool)\n",
      "C:\\Users\\Sina\\Anaconda3\\lib\\site-packages\\sklearn\\model_selection\\_split.py:113: DeprecationWarning: `np.bool` is a deprecated alias for the builtin `bool`. To silence this warning, use `bool` by itself. Doing this will not modify any behavior and is safe. If you specifically wanted the numpy scalar type, use `np.bool_` here.\n",
      "Deprecated in NumPy 1.20; for more details and guidance: https://numpy.org/devdocs/release/1.20.0-notes.html#deprecations\n",
      "  test_mask = np.zeros(_num_samples(X), dtype=np.bool)\n",
      "C:\\Users\\Sina\\Anaconda3\\lib\\site-packages\\sklearn\\model_selection\\_split.py:113: DeprecationWarning: `np.bool` is a deprecated alias for the builtin `bool`. To silence this warning, use `bool` by itself. Doing this will not modify any behavior and is safe. If you specifically wanted the numpy scalar type, use `np.bool_` here.\n",
      "Deprecated in NumPy 1.20; for more details and guidance: https://numpy.org/devdocs/release/1.20.0-notes.html#deprecations\n",
      "  test_mask = np.zeros(_num_samples(X), dtype=np.bool)\n",
      "C:\\Users\\Sina\\Anaconda3\\lib\\site-packages\\sklearn\\model_selection\\_split.py:113: DeprecationWarning: `np.bool` is a deprecated alias for the builtin `bool`. To silence this warning, use `bool` by itself. Doing this will not modify any behavior and is safe. If you specifically wanted the numpy scalar type, use `np.bool_` here.\n",
      "Deprecated in NumPy 1.20; for more details and guidance: https://numpy.org/devdocs/release/1.20.0-notes.html#deprecations\n",
      "  test_mask = np.zeros(_num_samples(X), dtype=np.bool)\n",
      "C:\\Users\\Sina\\Anaconda3\\lib\\site-packages\\sklearn\\model_selection\\_split.py:113: DeprecationWarning: `np.bool` is a deprecated alias for the builtin `bool`. To silence this warning, use `bool` by itself. Doing this will not modify any behavior and is safe. If you specifically wanted the numpy scalar type, use `np.bool_` here.\n",
      "Deprecated in NumPy 1.20; for more details and guidance: https://numpy.org/devdocs/release/1.20.0-notes.html#deprecations\n",
      "  test_mask = np.zeros(_num_samples(X), dtype=np.bool)\n",
      "C:\\Users\\Sina\\Anaconda3\\lib\\site-packages\\sklearn\\model_selection\\_split.py:113: DeprecationWarning: `np.bool` is a deprecated alias for the builtin `bool`. To silence this warning, use `bool` by itself. Doing this will not modify any behavior and is safe. If you specifically wanted the numpy scalar type, use `np.bool_` here.\n",
      "Deprecated in NumPy 1.20; for more details and guidance: https://numpy.org/devdocs/release/1.20.0-notes.html#deprecations\n",
      "  test_mask = np.zeros(_num_samples(X), dtype=np.bool)\n",
      "C:\\Users\\Sina\\Anaconda3\\lib\\site-packages\\sklearn\\model_selection\\_split.py:113: DeprecationWarning: `np.bool` is a deprecated alias for the builtin `bool`. To silence this warning, use `bool` by itself. Doing this will not modify any behavior and is safe. If you specifically wanted the numpy scalar type, use `np.bool_` here.\n",
      "Deprecated in NumPy 1.20; for more details and guidance: https://numpy.org/devdocs/release/1.20.0-notes.html#deprecations\n",
      "  test_mask = np.zeros(_num_samples(X), dtype=np.bool)\n",
      "C:\\Users\\Sina\\Anaconda3\\lib\\site-packages\\sklearn\\model_selection\\_split.py:113: DeprecationWarning: `np.bool` is a deprecated alias for the builtin `bool`. To silence this warning, use `bool` by itself. Doing this will not modify any behavior and is safe. If you specifically wanted the numpy scalar type, use `np.bool_` here.\n",
      "Deprecated in NumPy 1.20; for more details and guidance: https://numpy.org/devdocs/release/1.20.0-notes.html#deprecations\n",
      "  test_mask = np.zeros(_num_samples(X), dtype=np.bool)\n",
      "C:\\Users\\Sina\\Anaconda3\\lib\\site-packages\\sklearn\\model_selection\\_split.py:113: DeprecationWarning: `np.bool` is a deprecated alias for the builtin `bool`. To silence this warning, use `bool` by itself. Doing this will not modify any behavior and is safe. If you specifically wanted the numpy scalar type, use `np.bool_` here.\n",
      "Deprecated in NumPy 1.20; for more details and guidance: https://numpy.org/devdocs/release/1.20.0-notes.html#deprecations\n",
      "  test_mask = np.zeros(_num_samples(X), dtype=np.bool)\n",
      "C:\\Users\\Sina\\Anaconda3\\lib\\site-packages\\sklearn\\model_selection\\_split.py:113: DeprecationWarning: `np.bool` is a deprecated alias for the builtin `bool`. To silence this warning, use `bool` by itself. Doing this will not modify any behavior and is safe. If you specifically wanted the numpy scalar type, use `np.bool_` here.\n",
      "Deprecated in NumPy 1.20; for more details and guidance: https://numpy.org/devdocs/release/1.20.0-notes.html#deprecations\n",
      "  test_mask = np.zeros(_num_samples(X), dtype=np.bool)\n",
      "C:\\Users\\Sina\\Anaconda3\\lib\\site-packages\\sklearn\\model_selection\\_split.py:113: DeprecationWarning: `np.bool` is a deprecated alias for the builtin `bool`. To silence this warning, use `bool` by itself. Doing this will not modify any behavior and is safe. If you specifically wanted the numpy scalar type, use `np.bool_` here.\n",
      "Deprecated in NumPy 1.20; for more details and guidance: https://numpy.org/devdocs/release/1.20.0-notes.html#deprecations\n",
      "  test_mask = np.zeros(_num_samples(X), dtype=np.bool)\n",
      "C:\\Users\\Sina\\Anaconda3\\lib\\site-packages\\sklearn\\model_selection\\_split.py:113: DeprecationWarning: `np.bool` is a deprecated alias for the builtin `bool`. To silence this warning, use `bool` by itself. Doing this will not modify any behavior and is safe. If you specifically wanted the numpy scalar type, use `np.bool_` here.\n",
      "Deprecated in NumPy 1.20; for more details and guidance: https://numpy.org/devdocs/release/1.20.0-notes.html#deprecations\n",
      "  test_mask = np.zeros(_num_samples(X), dtype=np.bool)\n",
      "C:\\Users\\Sina\\Anaconda3\\lib\\site-packages\\sklearn\\model_selection\\_split.py:113: DeprecationWarning: `np.bool` is a deprecated alias for the builtin `bool`. To silence this warning, use `bool` by itself. Doing this will not modify any behavior and is safe. If you specifically wanted the numpy scalar type, use `np.bool_` here.\n",
      "Deprecated in NumPy 1.20; for more details and guidance: https://numpy.org/devdocs/release/1.20.0-notes.html#deprecations\n",
      "  test_mask = np.zeros(_num_samples(X), dtype=np.bool)\n"
     ]
    }
   ],
   "source": [
    "def load_data_kfold(k):\n",
    "    \n",
    "    folds = list(StratifiedKFold(n_splits=k, shuffle=True, random_state=1).split(X_train, y_train))\n",
    "    \n",
    "    return folds, X_train, y_train\n",
    "\n",
    "k = 7\n",
    "folds, X_train, y_train = load_data_kfold(k)"
   ]
  },
  {
   "cell_type": "code",
   "execution_count": 43,
   "metadata": {},
   "outputs": [],
   "source": [
    "from keras.applications.vgg16 import VGG16\n",
    "model = VGG16()"
   ]
  },
  {
   "cell_type": "code",
   "execution_count": 44,
   "metadata": {},
   "outputs": [],
   "source": [
    "# example of tending the vgg16 model\n",
    "from keras.applications.vgg16 import VGG16\n",
    "from keras.models import Model\n",
    "from keras.layers import Dense\n",
    "from keras.layers import Flatten\n",
    "# load model without classifier layers\n",
    "model_vgg16_conv = VGG16( include_top=False, pooling='avg')\n",
    "#model_vgg16_conv.trainable = False\n",
    "model_vgg16 = Sequential()\n",
    "# use vgg as feature extractor\n",
    "model_vgg16.add(model_vgg16_conv)\n",
    "# add two hidden layers for classification\n",
    "model_vgg16.add(Dense(512, activation=('relu')))\n",
    "model_vgg16.add(Dense(256, activation=('relu')))\n",
    "# add the prediction layer\n",
    "model_vgg16.add(Dense(2, activation=('softmax')))"
   ]
  },
  {
   "cell_type": "code",
   "execution_count": 45,
   "metadata": {},
   "outputs": [],
   "source": [
    "model_vgg16.compile(loss='sparse_categorical_crossentropy', optimizer = tf.keras.optimizers.RMSprop(learning_rate=0.00001), metrics=['acc'])"
   ]
  },
  {
   "cell_type": "code",
   "execution_count": 46,
   "metadata": {},
   "outputs": [],
   "source": [
    "batch_size=64\n",
    "\n",
    "gen = ImageDataGenerator(horizontal_flip = True,\n",
    "                         vertical_flip = True,\n",
    "                         width_shift_range = 0.1,\n",
    "                         height_shift_range = 0.1,\n",
    "                         zoom_range = 0.1,\n",
    "                         rotation_range = 10\n",
    "                        )"
   ]
  },
  {
   "cell_type": "code",
   "execution_count": 49,
   "metadata": {},
   "outputs": [
    {
     "name": "stdout",
     "output_type": "stream",
     "text": [
      "\n",
      "Fold  0\n",
      "Epoch 1/10\n",
      "62/62 [==============================] - 139s 2s/step - loss: 0.1380 - acc: 0.9469 - val_loss: 0.5784 - val_acc: 0.7734\n",
      "Epoch 2/10\n",
      "62/62 [==============================] - 141s 2s/step - loss: 0.1204 - acc: 0.9550 - val_loss: 0.6620 - val_acc: 0.7644\n",
      "Epoch 3/10\n",
      "62/62 [==============================] - 142s 2s/step - loss: 0.0978 - acc: 0.9641 - val_loss: 0.6646 - val_acc: 0.7432\n",
      "Epoch 4/10\n",
      "62/62 [==============================] - 142s 2s/step - loss: 0.0849 - acc: 0.9727 - val_loss: 0.7148 - val_acc: 0.7613\n",
      "Epoch 5/10\n",
      "62/62 [==============================] - 142s 2s/step - loss: 0.0875 - acc: 0.9697 - val_loss: 0.6759 - val_acc: 0.7704\n",
      "Epoch 6/10\n",
      "62/62 [==============================] - 142s 2s/step - loss: 0.0594 - acc: 0.9793 - val_loss: 0.7314 - val_acc: 0.7734\n",
      "Epoch 7/10\n",
      "62/62 [==============================] - 142s 2s/step - loss: 0.0573 - acc: 0.9798 - val_loss: 0.8695 - val_acc: 0.7402\n",
      "Epoch 8/10\n",
      "62/62 [==============================] - 164s 3s/step - loss: 0.0551 - acc: 0.9823 - val_loss: 0.7488 - val_acc: 0.7795\n",
      "Epoch 9/10\n",
      "62/62 [==============================] - 164s 3s/step - loss: 0.0484 - acc: 0.9848 - val_loss: 0.7880 - val_acc: 0.7674\n",
      "Epoch 10/10\n",
      "62/62 [==============================] - 150s 2s/step - loss: 0.0466 - acc: 0.9848 - val_loss: 0.8295 - val_acc: 0.7855\n",
      "\n",
      "Fold  1\n",
      "Epoch 1/10\n",
      "62/62 [==============================] - 144s 2s/step - loss: 0.1762 - acc: 0.9419 - val_loss: 0.0632 - val_acc: 0.9758\n",
      "Epoch 2/10\n",
      "62/62 [==============================] - 143s 2s/step - loss: 0.0941 - acc: 0.9666 - val_loss: 0.1042 - val_acc: 0.9577\n",
      "Epoch 3/10\n",
      "62/62 [==============================] - 141s 2s/step - loss: 0.0698 - acc: 0.9757 - val_loss: 0.0476 - val_acc: 0.9819\n",
      "Epoch 4/10\n",
      "62/62 [==============================] - 152s 2s/step - loss: 0.0471 - acc: 0.9848 - val_loss: 0.0753 - val_acc: 0.9728\n",
      "Epoch 5/10\n",
      "62/62 [==============================] - 155s 3s/step - loss: 0.0435 - acc: 0.9813 - val_loss: 0.0389 - val_acc: 0.9879\n",
      "Epoch 6/10\n",
      "62/62 [==============================] - 142s 2s/step - loss: 0.0373 - acc: 0.9879 - val_loss: 0.0759 - val_acc: 0.9668\n",
      "Epoch 7/10\n",
      "62/62 [==============================] - 141s 2s/step - loss: 0.0248 - acc: 0.9939 - val_loss: 0.1692 - val_acc: 0.9305\n",
      "Epoch 8/10\n",
      "62/62 [==============================] - 142s 2s/step - loss: 0.0414 - acc: 0.9864 - val_loss: 0.0394 - val_acc: 0.9849\n",
      "Epoch 9/10\n",
      "62/62 [==============================] - 141s 2s/step - loss: 0.0232 - acc: 0.9924 - val_loss: 0.0425 - val_acc: 0.9819\n",
      "Epoch 10/10\n",
      "62/62 [==============================] - 159s 3s/step - loss: 0.0253 - acc: 0.9919 - val_loss: 0.0399 - val_acc: 0.9849\n",
      "\n",
      "Fold  2\n",
      "Epoch 1/10\n",
      "62/62 [==============================] - 154s 2s/step - loss: 0.0370 - acc: 0.9848 - val_loss: 0.0137 - val_acc: 0.9970\n",
      "Epoch 2/10\n",
      "62/62 [==============================] - 161s 3s/step - loss: 0.0194 - acc: 0.9944 - val_loss: 0.0111 - val_acc: 0.9970\n",
      "Epoch 3/10\n",
      "62/62 [==============================] - 147s 2s/step - loss: 0.0259 - acc: 0.9919 - val_loss: 0.0110 - val_acc: 0.9970\n",
      "Epoch 4/10\n",
      "62/62 [==============================] - 165s 3s/step - loss: 0.0206 - acc: 0.9939 - val_loss: 0.0157 - val_acc: 0.9940\n",
      "Epoch 5/10\n",
      "62/62 [==============================] - 151s 2s/step - loss: 0.0203 - acc: 0.9924 - val_loss: 0.0185 - val_acc: 0.9940\n",
      "Epoch 6/10\n",
      "62/62 [==============================] - 158s 3s/step - loss: 0.0137 - acc: 0.9949 - val_loss: 0.0303 - val_acc: 0.9909\n",
      "Epoch 7/10\n",
      "62/62 [==============================] - 165s 3s/step - loss: 0.0170 - acc: 0.9949 - val_loss: 0.0181 - val_acc: 0.9970\n",
      "Epoch 8/10\n",
      "62/62 [==============================] - 149s 2s/step - loss: 0.0077 - acc: 0.9980 - val_loss: 0.0179 - val_acc: 0.9970\n",
      "Epoch 9/10\n",
      "62/62 [==============================] - 143s 2s/step - loss: 0.0265 - acc: 0.9899 - val_loss: 0.0382 - val_acc: 0.9849\n",
      "Epoch 10/10\n",
      "62/62 [==============================] - 142s 2s/step - loss: 0.0140 - acc: 0.9960 - val_loss: 0.3584 - val_acc: 0.8882\n",
      "\n",
      "Fold  3\n",
      "Epoch 1/10\n",
      "62/62 [==============================] - 142s 2s/step - loss: 0.0236 - acc: 0.9904 - val_loss: 0.0035 - val_acc: 1.0000\n",
      "Epoch 2/10\n",
      "62/62 [==============================] - 141s 2s/step - loss: 0.0159 - acc: 0.9929 - val_loss: 0.0017 - val_acc: 1.0000\n",
      "Epoch 3/10\n",
      "62/62 [==============================] - 151s 2s/step - loss: 0.0315 - acc: 0.9929 - val_loss: 0.0030 - val_acc: 1.0000\n",
      "Epoch 4/10\n",
      "62/62 [==============================] - 166s 3s/step - loss: 0.0157 - acc: 0.9949 - val_loss: 0.0017 - val_acc: 1.0000\n",
      "Epoch 5/10\n",
      "62/62 [==============================] - 160s 3s/step - loss: 0.0171 - acc: 0.9955 - val_loss: 0.0309 - val_acc: 0.9879\n",
      "Epoch 6/10\n",
      "62/62 [==============================] - 154s 2s/step - loss: 0.0120 - acc: 0.9944 - val_loss: 0.0092 - val_acc: 0.9939\n",
      "Epoch 7/10\n",
      "62/62 [==============================] - 168s 3s/step - loss: 0.0118 - acc: 0.9949 - val_loss: 0.0282 - val_acc: 0.9909\n",
      "Epoch 8/10\n",
      "62/62 [==============================] - 167s 3s/step - loss: 0.0201 - acc: 0.9914 - val_loss: 0.0063 - val_acc: 0.9970\n",
      "Epoch 9/10\n",
      "62/62 [==============================] - 162s 3s/step - loss: 0.0044 - acc: 0.9975 - val_loss: 0.0066 - val_acc: 0.9970\n",
      "Epoch 10/10\n",
      "62/62 [==============================] - 163s 3s/step - loss: 0.0130 - acc: 0.9949 - val_loss: 0.0128 - val_acc: 0.9939\n",
      "\n",
      "Fold  4\n",
      "Epoch 1/10\n",
      "62/62 [==============================] - 150s 2s/step - loss: 0.0169 - acc: 0.9934 - val_loss: 8.3568e-04 - val_acc: 1.0000\n",
      "Epoch 2/10\n",
      "62/62 [==============================] - 140s 2s/step - loss: 0.0068 - acc: 0.9975 - val_loss: 0.0021 - val_acc: 1.0000\n",
      "Epoch 3/10\n",
      "62/62 [==============================] - 141s 2s/step - loss: 0.0099 - acc: 0.9960 - val_loss: 0.0037 - val_acc: 1.0000\n",
      "Epoch 4/10\n",
      "62/62 [==============================] - 139s 2s/step - loss: 0.0189 - acc: 0.9924 - val_loss: 0.0014 - val_acc: 1.0000\n",
      "Epoch 5/10\n",
      "62/62 [==============================] - 140s 2s/step - loss: 0.0079 - acc: 0.9970 - val_loss: 0.0061 - val_acc: 1.0000\n",
      "Epoch 6/10\n",
      "62/62 [==============================] - 139s 2s/step - loss: 0.0075 - acc: 0.9970 - val_loss: 8.4578e-04 - val_acc: 1.0000\n",
      "Epoch 7/10\n",
      "62/62 [==============================] - 140s 2s/step - loss: 0.0099 - acc: 0.9955 - val_loss: 0.0019 - val_acc: 1.0000\n",
      "Epoch 8/10\n",
      "62/62 [==============================] - 145s 2s/step - loss: 0.0091 - acc: 0.9960 - val_loss: 0.0040 - val_acc: 1.0000\n",
      "Epoch 9/10\n",
      "62/62 [==============================] - 152s 2s/step - loss: 0.0099 - acc: 0.9975 - val_loss: 0.0015 - val_acc: 1.0000\n",
      "Epoch 10/10\n",
      "62/62 [==============================] - 139s 2s/step - loss: 0.0045 - acc: 0.9975 - val_loss: 0.0139 - val_acc: 0.9939\n",
      "\n",
      "Fold  5\n",
      "Epoch 1/10\n",
      "62/62 [==============================] - 139s 2s/step - loss: 0.0083 - acc: 0.9960 - val_loss: 9.1791e-04 - val_acc: 1.0000\n",
      "Epoch 2/10\n",
      "62/62 [==============================] - 140s 2s/step - loss: 0.0095 - acc: 0.9955 - val_loss: 2.2040e-04 - val_acc: 1.0000\n",
      "Epoch 3/10\n",
      "62/62 [==============================] - 140s 2s/step - loss: 0.0068 - acc: 0.9970 - val_loss: 2.9054e-04 - val_acc: 1.0000\n",
      "Epoch 4/10\n",
      "62/62 [==============================] - 141s 2s/step - loss: 0.0104 - acc: 0.9955 - val_loss: 0.1406 - val_acc: 0.9544\n",
      "Epoch 5/10\n",
      "62/62 [==============================] - 138s 2s/step - loss: 0.0074 - acc: 0.9980 - val_loss: 1.0240e-04 - val_acc: 1.0000\n",
      "Epoch 6/10\n",
      "62/62 [==============================] - 138s 2s/step - loss: 0.0074 - acc: 0.9965 - val_loss: 1.1021e-04 - val_acc: 1.0000\n",
      "Epoch 7/10\n",
      "62/62 [==============================] - 138s 2s/step - loss: 0.0153 - acc: 0.9924 - val_loss: 4.3997e-04 - val_acc: 1.0000\n",
      "Epoch 8/10\n",
      "62/62 [==============================] - 138s 2s/step - loss: 0.0024 - acc: 0.9985 - val_loss: 0.0040 - val_acc: 1.0000\n",
      "Epoch 9/10\n",
      "62/62 [==============================] - 137s 2s/step - loss: 0.0125 - acc: 0.9965 - val_loss: 7.4163e-05 - val_acc: 1.0000\n",
      "Epoch 10/10\n",
      "62/62 [==============================] - 137s 2s/step - loss: 0.0108 - acc: 0.9960 - val_loss: 2.5402e-04 - val_acc: 1.0000\n",
      "\n",
      "Fold  6\n",
      "Epoch 1/10\n",
      "62/62 [==============================] - 139s 2s/step - loss: 0.0053 - acc: 0.9980 - val_loss: 0.0075 - val_acc: 0.9970\n",
      "Epoch 2/10\n",
      "62/62 [==============================] - 139s 2s/step - loss: 0.0080 - acc: 0.9960 - val_loss: 3.8026e-04 - val_acc: 1.0000\n",
      "Epoch 3/10\n",
      "62/62 [==============================] - 138s 2s/step - loss: 0.0081 - acc: 0.9960 - val_loss: 0.0013 - val_acc: 1.0000\n",
      "Epoch 4/10\n",
      "62/62 [==============================] - 137s 2s/step - loss: 0.0067 - acc: 0.9975 - val_loss: 5.1523e-04 - val_acc: 1.0000\n",
      "Epoch 5/10\n",
      "62/62 [==============================] - 138s 2s/step - loss: 0.0086 - acc: 0.9955 - val_loss: 0.0045 - val_acc: 0.9970\n",
      "Epoch 6/10\n",
      "62/62 [==============================] - 138s 2s/step - loss: 0.0033 - acc: 0.9980 - val_loss: 3.1263e-04 - val_acc: 1.0000\n",
      "Epoch 7/10\n",
      "62/62 [==============================] - 139s 2s/step - loss: 0.0128 - acc: 0.9950 - val_loss: 2.3376e-04 - val_acc: 1.0000\n",
      "Epoch 8/10\n",
      "62/62 [==============================] - 137s 2s/step - loss: 0.0162 - acc: 0.9960 - val_loss: 0.0041 - val_acc: 1.0000\n",
      "Epoch 9/10\n",
      "62/62 [==============================] - 138s 2s/step - loss: 0.0024 - acc: 0.9990 - val_loss: 1.8553e-04 - val_acc: 1.0000\n",
      "Epoch 10/10\n",
      "62/62 [==============================] - 143s 2s/step - loss: 0.0070 - acc: 0.9965 - val_loss: 3.4542e-04 - val_acc: 1.0000\n"
     ]
    }
   ],
   "source": [
    "for j, (train_idx, val_idx) in enumerate(folds):\n",
    "    \n",
    "    print('\\nFold ',j)\n",
    "    X_train_cv = X_train[train_idx]\n",
    "    y_train_cv = y_train[train_idx]\n",
    "    X_test_cv = X_train[val_idx]\n",
    "    y_test_cv= y_train[val_idx]\n",
    "    \n",
    "#     name_weights = \"final_model_fold\" + str(j) + \"_weights.h5\"\n",
    "#     callbacks = get_callbacks(name_weights = name_weights, patience_lr=10)\n",
    "#     generator = gen.flow(X_train_cv, y_train_cv, batch_size = batch_size)\n",
    "#     model = get_model()\n",
    "#     model.fit_generator(\n",
    "#                 generator,\n",
    "#                 steps_per_epoch=len(X_train_cv)/batch_size,\n",
    "#                 epochs=15,\n",
    "#                 shuffle=True,\n",
    "#                 verbose=1,\n",
    "#                 validation_data = (X_valid_cv, y_valid_cv),\n",
    "#                 callbacks = callbacks)\n",
    "    VGG16_history = model_vgg16.fit(X_train_cv, y_train_cv, validation_data=(X_test_cv, y_test_cv), epochs=10)\n",
    "    \n",
    "    #print(model.evaluate(X_valid_cv, y_valid_cv))"
   ]
  },
  {
   "cell_type": "code",
   "execution_count": 50,
   "metadata": {},
   "outputs": [
    {
     "name": "stdout",
     "output_type": "stream",
     "text": [
      "11/11 [==============================] - 4s 372ms/step - loss: 3.4542e-04 - acc: 1.0000\n"
     ]
    }
   ],
   "source": [
    "scores = model_vgg16.evaluate(X_test_cv, y_test_cv)"
   ]
  },
  {
   "cell_type": "code",
   "execution_count": 51,
   "metadata": {},
   "outputs": [
    {
     "name": "stdout",
     "output_type": "stream",
     "text": [
      "Final VGG16 accuracy:  1.0\n"
     ]
    }
   ],
   "source": [
    "print('Final VGG16 accuracy: ', scores[1])"
   ]
  },
  {
   "cell_type": "code",
   "execution_count": 52,
   "metadata": {},
   "outputs": [
    {
     "data": {
      "image/png": "[encoded data removed]",
      "text/plain": [
       "<Figure size 432x288 with 1 Axes>"
      ]
     },
     "metadata": {
      "needs_background": "light"
     },
     "output_type": "display_data"
    }
   ],
   "source": [
    "plt.plot(VGG16_history.history['acc'])\n",
    "plt.plot(VGG16_history.history['val_acc'])\n",
    "plt.title('VGG16 - Model Accuracy')\n",
    "plt.ylabel('accuracy')\n",
    "plt.xlabel('epoch')\n",
    "#plt.xticks([])\n",
    "plt.legend(['train', 'test'], loc='upper left')\n",
    "plt.show()"
   ]
  },
  {
   "cell_type": "code",
   "execution_count": 53,
   "metadata": {},
   "outputs": [
    {
     "data": {
      "image/png": "[encoded data removed]",
      "text/plain": [
       "<Figure size 432x288 with 1 Axes>"
      ]
     },
     "metadata": {
      "needs_background": "light"
     },
     "output_type": "display_data"
    }
   ],
   "source": [
    "plt.plot(VGG16_history.history['loss'])\n",
    "plt.plot(VGG16_history.history['val_loss'])\n",
    "plt.title('VGG16 - Model Loss')\n",
    "plt.ylabel('loss')\n",
    "plt.xlabel('epoch')\n",
    "plt.legend(['train', 'test'], loc='upper left')\n",
    "plt.show()"
   ]
  },
  {
   "cell_type": "code",
   "execution_count": 54,
   "metadata": {},
   "outputs": [],
   "source": [
    "model_vgg16.save('model.h5')"
   ]
  },
  {
   "cell_type": "code",
   "execution_count": null,
   "metadata": {},
   "outputs": [],
   "source": []
  }
 ],
 "metadata": {
  "kernelspec": {
   "display_name": "Python 3",
   "language": "python",
   "name": "python3"
  },
  "language_info": {
   "codemirror_mode": {
    "name": "ipython",
    "version": 3
   },
   "file_extension": ".py",
   "mimetype": "text/x-python",
   "name": "python",
   "nbconvert_exporter": "python",
   "pygments_lexer": "ipython3",
   "version": "3.7.3"
  }
 },
 "nbformat": 4,
 "nbformat_minor": 2
}
